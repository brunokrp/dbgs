{
 "cells": [
  {
   "cell_type": "code",
   "execution_count": 35,
   "metadata": {},
   "outputs": [],
   "source": [
    "#LIB\n",
    "import pandas as pd\n",
    "import matplotlib.pyplot as plt\n",
    "from sklearn.model_selection import train_test_split\n",
    "import sklearn\n",
    "import seaborn as sns\n",
    "import numpy as np\n",
    "%matplotlib inline\n",
    "\n",
    "#FILES\n",
    "users = pd.read_csv('users_with_clusters.csv',low_memory=False, sep=',', encoding='utf-8')\n",
    "places = pd.read_csv('places_with_clusters.csv',low_memory=False, sep=',', encoding='utf-8')\n",
    "carac = pd.read_csv('caracteristics_with_clusters.csv',low_memory=False, sep=',', encoding='utf-8')\n",
    "vehicles = pd.read_csv('vehicles_with_clusters.csv',low_memory=False, sep=',', encoding='utf-8')"
   ]
  },
  {
   "cell_type": "code",
   "execution_count": 36,
   "metadata": {},
   "outputs": [
    {
     "data": {
      "text/plain": [
       "(839985, 6)"
      ]
     },
     "execution_count": 36,
     "metadata": {},
     "output_type": "execute_result"
    }
   ],
   "source": [
    "users.shape"
   ]
  },
  {
   "cell_type": "code",
   "execution_count": 37,
   "metadata": {},
   "outputs": [
    {
     "data": {
      "text/plain": [
       "(839985, 12)"
      ]
     },
     "execution_count": 37,
     "metadata": {},
     "output_type": "execute_result"
    }
   ],
   "source": [
    "places.shape"
   ]
  },
  {
   "cell_type": "code",
   "execution_count": 38,
   "metadata": {},
   "outputs": [
    {
     "data": {
      "text/plain": [
       "(839985, 13)"
      ]
     },
     "execution_count": 38,
     "metadata": {},
     "output_type": "execute_result"
    }
   ],
   "source": [
    "carac.shape"
   ]
  },
  {
   "cell_type": "code",
   "execution_count": 39,
   "metadata": {},
   "outputs": [
    {
     "data": {
      "text/plain": [
       "(839985, 5)"
      ]
     },
     "execution_count": 39,
     "metadata": {},
     "output_type": "execute_result"
    }
   ],
   "source": [
    "vehicles.shape"
   ]
  },
  {
   "cell_type": "code",
   "execution_count": 40,
   "metadata": {},
   "outputs": [],
   "source": [
    "# MERGES\n",
    "usr_vehi = pd.merge(users, vehicles, how='inner', on='Num_Acc', left_on=None, right_on=None, left_index=False, right_index=False, sort=True, suffixes=('_us', '_vl'), copy=True, indicator=False,validate=None)\n",
    "carac_places = pd.merge(carac, places, how='inner', on='Num_Acc', left_on=None, right_on=None, left_index=False, right_index=False, sort=True, suffixes=('_cr', '_pl'), copy=True, indicator=False,validate=None)\n",
    "dataset = pd.merge(usr_vehi, carac_places, how='inner', on='Num_Acc', left_on=None, right_on=None, left_index=False, right_index=False, sort=True, suffixes=('_cr', '_pl'), copy=True, indicator=False,validate=None)"
   ]
  },
  {
   "cell_type": "code",
   "execution_count": 41,
   "metadata": {
    "scrolled": true
   },
   "outputs": [
    {
     "data": {
      "text/plain": [
       "Index(['Num_Acc', 'ageCateg18_1', 'ageCateg65_1', 'grav_1', 'locp_1',\n",
       "       'cluster_users', 'count_veh', 'diff_cat_1', 'cluster_carac',\n",
       "       'cluster_vehicles', 'an_1', 'hrmn_1', 'hrmn_2', 'lum_1', 'agg_2',\n",
       "       'int_1', 'atm_1', 'col_1', 'col_2', 'sun_sat_hol_holminus1_1',\n",
       "       'friday_1', 'cluster', 'catr_1', 'catr_2', 'circ_1', 'vosp_1', 'prof_1',\n",
       "       'plan_1', 'larrout_1', 'surf_1', 'surf_2', 'situ_1', 'cluster_places'],\n",
       "      dtype='object')"
      ]
     },
     "execution_count": 41,
     "metadata": {},
     "output_type": "execute_result"
    }
   ],
   "source": [
    "dataset.columns"
   ]
  },
  {
   "cell_type": "code",
   "execution_count": 42,
   "metadata": {},
   "outputs": [],
   "source": [
    "clusters = dataset[['Num_Acc','cluster_users', 'cluster_carac',\n",
    "       'cluster_vehicles', 'cluster_places']]"
   ]
  },
  {
   "cell_type": "code",
   "execution_count": 43,
   "metadata": {},
   "outputs": [],
   "source": [
    "dataset1 = dataset.drop(columns = ['cluster','cluster_users', 'cluster_carac',\n",
    "       'cluster_vehicles', 'cluster_places'])"
   ]
  },
  {
   "cell_type": "code",
   "execution_count": 44,
   "metadata": {},
   "outputs": [
    {
     "data": {
      "text/plain": [
       "Index(['Num_Acc', 'ageCateg18_1', 'ageCateg65_1', 'grav_1', 'locp_1',\n",
       "       'count_veh', 'diff_cat_1', 'an_1', 'hrmn_1', 'hrmn_2', 'lum_1', 'agg_2',\n",
       "       'int_1', 'atm_1', 'col_1', 'col_2', 'sun_sat_hol_holminus1_1',\n",
       "       'friday_1', 'catr_1', 'catr_2', 'circ_1', 'vosp_1', 'prof_1', 'plan_1',\n",
       "       'larrout_1', 'surf_1', 'surf_2', 'situ_1'],\n",
       "      dtype='object')"
      ]
     },
     "execution_count": 44,
     "metadata": {},
     "output_type": "execute_result"
    }
   ],
   "source": [
    "dataset1.columns"
   ]
  },
  {
   "cell_type": "code",
   "execution_count": 45,
   "metadata": {},
   "outputs": [],
   "source": [
    "dataset1.to_csv('dataset.csv', sep=',')"
   ]
  },
  {
   "cell_type": "code",
   "execution_count": 46,
   "metadata": {},
   "outputs": [],
   "source": [
    "clusters.to_csv('clusters_columns.csv', sep=',')"
   ]
  }
 ],
 "metadata": {
  "kernelspec": {
   "display_name": "Python 3",
   "language": "python",
   "name": "python3"
  },
  "language_info": {
   "codemirror_mode": {
    "name": "ipython",
    "version": 3
   },
   "file_extension": ".py",
   "mimetype": "text/x-python",
   "name": "python",
   "nbconvert_exporter": "python",
   "pygments_lexer": "ipython3",
   "version": "3.6.4"
  }
 },
 "nbformat": 4,
 "nbformat_minor": 2
}
